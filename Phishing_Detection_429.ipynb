{
  "nbformat": 4,
  "nbformat_minor": 0,
  "metadata": {
    "colab": {
      "provenance": [],
      "gpuType": "T4"
    },
    "kernelspec": {
      "name": "python3",
      "display_name": "Python 3"
    },
    "language_info": {
      "name": "python"
    },
    "accelerator": "GPU"
  },
  "cells": [
    {
      "cell_type": "code",
      "source": [
        "# prompt: import the two data .json files and shuffle them together into one large array, adding another parameter 1 or 0 whether it is from the phishing file or the legitimate file\n",
        "\n",
        "# https://github.com/ebubekirbbr/pdd/blob/master/input/data_phishing_37175.json\n",
        "\n",
        "import json\n",
        "import numpy as np\n",
        "import os\n",
        "\n",
        "# Load the phishing data from the JSON file\n",
        "with open('data_legitimate_36400.json') as f:\n",
        "    ldata = json.load(f)\n",
        "\n",
        "# Load the legitimate data from the JSON file\n",
        "with open('data_phishing_37175.json') as f:\n",
        "    pdata = json.load(f)\n",
        "\n",
        "# Create an empty array to store the combined data\n",
        "combined_data = []\n",
        "\n",
        "# Add the phishing data to the combined data array, and add a label of 1 to indicate that it is phishing\n",
        "for item in pdata:\n",
        "    combined_data.append([item, 1])\n",
        "\n",
        "# Add the legitimate data to the combined data array, and add a label of 0 to indicate that it is legitimate\n",
        "for item in ldata:\n",
        "    combined_data.append([item, 0])\n",
        "\n",
        "# Shuffle the combined data array\n",
        "np.random.shuffle(combined_data)\n",
        "\n",
        "# Convert the combined data array to a numpy array\n",
        "combined_data = np.array(combined_data)\n",
        "\n",
        "print(combined_data[:10])\n",
        "\n"
      ],
      "metadata": {
        "colab": {
          "base_uri": "https://localhost:8080/"
        },
        "id": "Feq4_FuiTuJH",
        "outputId": "55616b08-22d4-47ed-a830-0b06c5eba3c4"
      },
      "execution_count": 1,
      "outputs": [
        {
          "output_type": "stream",
          "name": "stdout",
          "text": [
            "[['http://www.ryssel-ferienwohnung.de/tmp/cgi-ero/mail-box/index.php?login=info@aerolinks.us'\n",
            "  '1']\n",
            " ['http://asiandream.ru/images/m_images/index/cameo.php?login&amp;continue=to&amp;inbox=xclusiv-3d|'\n",
            "  '1']\n",
            " ['http://intergoods.rs/language/Rname.htm' '1']\n",
            " ['http://www.paceinfonet.org/wp-admin/network/dboxlog/knd/Dropbox.html'\n",
            "  '1']\n",
            " ['http://uaanow.com/admin/online/order.php?rand%5Cu003d13InboxLightaspxn.1774256418%5Cu0026amp'\n",
            "  '1']\n",
            " ['http://www.musiclawcontracts.com/product/session-musician-contract/'\n",
            "  '0']\n",
            " ['http://flights.idealo.com/airline/LATAM-Chile-LA/' '0']\n",
            " ['http://renovationkingdom.com/downloader/cc/dpbx/' '1']\n",
            " ['http://watsonspestcontrol.com.au/loss/drpbxx/drpbxx/index.php' '1']\n",
            " ['http://www.miccostruzioni.it/wps/ef205/6a7ab/7r2a8/help/nn/Ameli/Ameli/PortailAS/appmanager/PortailAS/assure_somtc=true/po/index_2.html'\n",
            "  '1']]\n"
          ]
        }
      ]
    },
    {
      "cell_type": "code",
      "source": [
        "# prompt: print the lengths of the links at each percentile, from shorter to longer\n",
        "\n",
        "import numpy as np\n",
        "\n",
        "# Extract the links from the combined data\n",
        "links = [item[0] for item in combined_data]\n",
        "\n",
        "# Calculate the percentiles\n",
        "percentiles = np.percentile(np.char.str_len(links), np.arange(0, 101))\n",
        "\n"
      ],
      "metadata": {
        "id": "BYhXFnzGMAEo"
      },
      "execution_count": 3,
      "outputs": []
    },
    {
      "cell_type": "code",
      "source": [],
      "metadata": {
        "id": "O6rtzWCmNdaG"
      },
      "execution_count": null,
      "outputs": []
    },
    {
      "cell_type": "code",
      "source": [
        "# prompt: make urls and labels arrays from the combined_data without using libraries\n",
        "\n",
        "urls = []\n",
        "labels = []\n",
        "\n",
        "for item in combined_data:\n",
        "  urls.append(item[0])\n",
        "  labels.append(item[1])\n"
      ],
      "metadata": {
        "id": "mjI0URh8Vsp6"
      },
      "execution_count": 4,
      "outputs": []
    },
    {
      "cell_type": "code",
      "source": [
        "import tensorflow as tf\n",
        "from tensorflow.keras.preprocessing.text import Tokenizer\n",
        "from tensorflow.keras.preprocessing.sequence import pad_sequences\n",
        "import numpy as np\n",
        "\n",
        "\n",
        "# Tokenize the URLs\n",
        "tokenizer = Tokenizer(char_level=True)\n",
        "tokenizer.fit_on_texts(urls)\n",
        "sequences = tokenizer.texts_to_sequences(urls)\n",
        "\n",
        "# Pad the sequences\n",
        "max_length = 200\n",
        "padded_sequences = pad_sequences(sequences, maxlen=max_length)\n",
        "\n",
        "# Convert labels to numpy array\n",
        "labels = np.array(labels, dtype=int)\n",
        "\n",
        "# Create the model\n",
        "model = tf.keras.Sequential([\n",
        "    tf.keras.layers.Embedding(input_dim=200, output_dim=128, mask_zero=True),\n",
        "    tf.keras.layers.Conv1D(128, 5, padding='same', activation='relu'),\n",
        "    tf.keras.layers.MaxPooling1D(),\n",
        "    tf.keras.layers.Bidirectional(tf.keras.layers.LSTM(256, return_sequences=True)),\n",
        "    tf.keras.layers.Bidirectional(tf.keras.layers.LSTM(256)),\n",
        "    tf.keras.layers.Dropout(0.3),\n",
        "    tf.keras.layers.Dense(128, activation='elu', kernel_regularizer=tf.keras.regularizers.l2(0.01)),\n",
        "    tf.keras.layers.Dropout(0.3),\n",
        "    tf.keras.layers.Dense(64, activation='elu', kernel_regularizer=tf.keras.regularizers.l2(0.01)),\n",
        "    tf.keras.layers.Dense(1, activation='sigmoid')\n",
        "])\n",
        "# Compile the model\n",
        "model.compile(loss='binary_crossentropy', optimizer='adam', metrics=['accuracy'])\n",
        "\n",
        "# Train the model\n",
        "history = model.fit(padded_sequences, labels, epochs=10, validation_split=0.2)\n",
        "print(history.history)"
      ],
      "metadata": {
        "colab": {
          "base_uri": "https://localhost:8080/"
        },
        "id": "3Q7c3H9yX0Az",
        "outputId": "913b6b11-58eb-4382-d5ef-c32fa2bb3e08"
      },
      "execution_count": 11,
      "outputs": [
        {
          "output_type": "stream",
          "name": "stdout",
          "text": [
            "Epoch 1/10\n",
            "1840/1840 [==============================] - 84s 41ms/step - loss: 0.2405 - accuracy: 0.9371 - val_loss: 0.1257 - val_accuracy: 0.9587\n",
            "Epoch 2/10\n",
            "1840/1840 [==============================] - 72s 39ms/step - loss: 0.1033 - accuracy: 0.9686 - val_loss: 0.0822 - val_accuracy: 0.9750\n",
            "Epoch 3/10\n",
            "1840/1840 [==============================] - 69s 38ms/step - loss: 0.0802 - accuracy: 0.9759 - val_loss: 0.0722 - val_accuracy: 0.9772\n",
            "Epoch 4/10\n",
            "1840/1840 [==============================] - 67s 36ms/step - loss: 0.0717 - accuracy: 0.9795 - val_loss: 0.0690 - val_accuracy: 0.9776\n",
            "Epoch 5/10\n",
            "1840/1840 [==============================] - 67s 36ms/step - loss: 0.0561 - accuracy: 0.9845 - val_loss: 0.0748 - val_accuracy: 0.9819\n",
            "Epoch 6/10\n",
            "1840/1840 [==============================] - 66s 36ms/step - loss: 0.0488 - accuracy: 0.9865 - val_loss: 0.0639 - val_accuracy: 0.9809\n",
            "Epoch 7/10\n",
            "1840/1840 [==============================] - 70s 38ms/step - loss: 0.0448 - accuracy: 0.9880 - val_loss: 0.0601 - val_accuracy: 0.9836\n",
            "Epoch 8/10\n",
            "1840/1840 [==============================] - 69s 37ms/step - loss: 0.0356 - accuracy: 0.9908 - val_loss: 0.0654 - val_accuracy: 0.9838\n",
            "Epoch 9/10\n",
            "1840/1840 [==============================] - 69s 38ms/step - loss: 0.0329 - accuracy: 0.9926 - val_loss: 0.0552 - val_accuracy: 0.9834\n",
            "Epoch 10/10\n",
            "1840/1840 [==============================] - 66s 36ms/step - loss: 0.0272 - accuracy: 0.9933 - val_loss: 0.0593 - val_accuracy: 0.9853\n",
            "{'loss': [0.24049112200737, 0.1032647043466568, 0.0801677405834198, 0.07170915603637695, 0.05610605329275131, 0.048844099044799805, 0.04478965327143669, 0.035607319325208664, 0.03290444612503052, 0.027244245633482933], 'accuracy': [0.9370540380477905, 0.9685694575309753, 0.9759259223937988, 0.9795107245445251, 0.9844716191291809, 0.9865273237228394, 0.9879714846611023, 0.9907577037811279, 0.9926095604896545, 0.9932891726493835], 'val_loss': [0.12567104399204254, 0.08219393342733383, 0.07224027812480927, 0.06898042559623718, 0.07483626902103424, 0.06388411670923233, 0.060052379965782166, 0.06539452821016312, 0.05516400560736656, 0.059283822774887085], 'val_accuracy': [0.9586816430091858, 0.974991500377655, 0.9772341251373291, 0.9775739312171936, 0.9818552732467651, 0.9809038639068604, 0.9835541844367981, 0.9838260412216187, 0.9833503365516663, 0.9852531552314758]}\n"
          ]
        }
      ]
    },
    {
      "cell_type": "code",
      "source": [
        "# prompt: save the model and load it up\n",
        "\n",
        "# Save the model\n",
        "model.save('model_98.53.keras')\n",
        "\n"
      ],
      "metadata": {
        "id": "Yhu5Mzul1O33"
      },
      "execution_count": 12,
      "outputs": []
    },
    {
      "cell_type": "code",
      "source": [
        "import tensorflow as tf\n",
        "\n",
        "# Load the model\n",
        "model = tf.keras.models.load_model('model_98.55.keras')\n"
      ],
      "metadata": {
        "id": "sMii_gGzWhhS"
      },
      "execution_count": 2,
      "outputs": []
    },
    {
      "cell_type": "code",
      "source": [
        "import matplotlib.pyplot as plt\n",
        "import numpy as np\n",
        "\n",
        "# Plot accuracy\n",
        "plt.figure()\n",
        "plt.plot(np.arange(1, len(history.history['accuracy']) + 1), history.history['accuracy'])\n",
        "plt.plot(np.arange(1, len(history.history['val_accuracy']) + 1), history.history['val_accuracy'])\n",
        "plt.title('Model accuracy')\n",
        "plt.ylabel('Accuracy')\n",
        "plt.xlabel('Epoch')\n",
        "plt.xticks(np.arange(1, len(history.history['accuracy']) + 1, 1))\n",
        "plt.legend(['Train', 'Validation'], loc='upper left')\n",
        "plt.show()\n",
        "\n",
        "# Plot loss\n",
        "plt.figure()\n",
        "plt.plot(np.arange(1, len(history.history['loss']) + 1), history.history['loss'])\n",
        "plt.plot(np.arange(1, len(history.history['val_loss']) + 1), history.history['val_loss'])\n",
        "plt.title('Model loss')\n",
        "plt.ylabel('Loss')\n",
        "plt.xlabel('Epoch')\n",
        "plt.xticks(np.arange(1, len(history.history['loss']) + 1, 1))\n",
        "plt.legend(['Train', 'Validation'], loc='upper left')\n",
        "plt.show()"
      ],
      "metadata": {
        "colab": {
          "base_uri": "https://localhost:8080/",
          "height": 927
        },
        "id": "Du5CPj1DIrS0",
        "outputId": "c1aade06-aceb-4789-d7ef-4dafdb1f8019"
      },
      "execution_count": 13,
      "outputs": [
        {
          "output_type": "display_data",
          "data": {
            "text/plain": [
              "<Figure size 640x480 with 1 Axes>"
            ],
            "image/png": "[encoded data removed]"
          },
          "metadata": {}
        },
        {
          "output_type": "display_data",
          "data": {
            "text/plain": [
              "<Figure size 640x480 with 1 Axes>"
            ],
            "image/png": "[encoded data removed]"
          },
          "metadata": {}
        }
      ]
    },
    {
      "cell_type": "code",
      "source": [
        "\n",
        "# Make predictions on the test data\n",
        "predictions = model.predict(padded_sequences)\n",
        "\n",
        "# Convert the predictions to binary values\n",
        "for i in range(len(predictions)):\n",
        "    if predictions[i] > 0.5:\n",
        "        predictions[i] = 1\n",
        "    else:\n",
        "        predictions[i] = 0\n",
        "\n",
        "# Evaluate the model on the test data\n",
        "from sklearn.metrics import accuracy_score\n",
        "accuracy = accuracy_score(labels, predictions)\n",
        "print(\"Accuracy:\", accuracy)\n"
      ],
      "metadata": {
        "colab": {
          "base_uri": "https://localhost:8080/"
        },
        "id": "sk4fFdnJcjpP",
        "outputId": "6fb97fbf-43e8-46b7-e46e-2c2d202c5d0b"
      },
      "execution_count": 14,
      "outputs": [
        {
          "output_type": "stream",
          "name": "stdout",
          "text": [
            "2300/2300 [==============================] - 29s 12ms/step\n",
            "Accuracy: 0.9947808358817534\n"
          ]
        }
      ]
    },
    {
      "cell_type": "code",
      "source": [
        "# prompt: print the number of false positives, real positive, false negative, real negative % on labels and predictions\n",
        "\n",
        "# Calculate the number of true positives, false negatives, true negatives, and false positives.\n",
        "tp = 0\n",
        "fn = 0\n",
        "tn = 0\n",
        "fp = 0\n",
        "\n",
        "for i in range(len(labels)):\n",
        "  if labels[i] == 1 and predictions[i] == 1:\n",
        "    tp += 1\n",
        "  elif labels[i] == 1 and predictions[i] == 0:\n",
        "    fn += 1\n",
        "  elif labels[i] == 0 and predictions[i] == 0:\n",
        "    tn += 1\n",
        "  elif labels[i] == 0 and predictions[i] == 1:\n",
        "    fp += 1\n",
        "\n",
        "# Calculate the percentages of true positives, false negatives, true negatives, and false positives.\n",
        "tp_percent = tp / (tp + fn) * 100\n",
        "fn_percent = fn / (tp + fn) * 100\n",
        "tn_percent = tn / (tn + fp) * 100\n",
        "fp_percent = fp / (tn + fp) * 100\n",
        "\n",
        "# Print the percentages of true positives, false negatives, true negatives, and false positives.\n",
        "print(\"True Positives:\", tp_percent)\n",
        "print(\"False Negatives:\", fn_percent)\n",
        "print(\"True Negatives:\", tn_percent)\n",
        "print(\"False Positives:\", fp_percent)\n"
      ],
      "metadata": {
        "colab": {
          "base_uri": "https://localhost:8080/"
        },
        "id": "Av8M_FVweeLR",
        "outputId": "36fb1fbe-c7ed-4ea7-8e44-47fab4ebd511"
      },
      "execution_count": 15,
      "outputs": [
        {
          "output_type": "stream",
          "name": "stdout",
          "text": [
            "True Positives: 99.65299260255549\n",
            "False Negatives: 0.3470073974445192\n",
            "True Negatives: 99.29945054945055\n",
            "False Positives: 0.7005494505494506\n"
          ]
        }
      ]
    },
    {
      "cell_type": "code",
      "source": [
        "# prompt: using combined_data parse the url into the following features:\n",
        "# Feature\tExplanation\n",
        "# Raw Word Count\tThe number of words obtained after parsing the URL by special characters.\n",
        "# Brand Check for Domain\tIs domain of the analyzed URL in the brand name list?\n",
        "# Average Word Length\tThe average length of the words in the raw word list.\n",
        "# Longest Word Length\tThe length of the longest word in the raw word list.\n",
        "\n",
        "import numpy as np\n",
        "import re\n",
        "import collections\n",
        "\n",
        "def parse_url(url):\n",
        "  # Extract the domain name\n",
        "  domain = url.split(\".\")[1]\n",
        "\n",
        "  # Split the URL into words\n",
        "  words = re.split('[^a-zA-Z]', url)\n",
        "\n",
        "  # Remove empty strings\n",
        "  words = [word for word in words if word]\n",
        "\n",
        "  # Count the number of words\n",
        "  raw_word_count = len(words)\n",
        "\n",
        "  # Check if the domain is in the brand name list\n",
        "  brand_check_for_domain = 1 if domain in [\"google.com\", \"facebook.com\", \"amazon.com\"] else 0\n",
        "\n",
        "  # Calculate the average word length\n",
        "  total_word_length = sum(len(word) for word in words)\n",
        "  average_word_length = total_word_length / raw_word_count\n",
        "\n",
        "  # Calculate the longest word length\n",
        "  longest_word_length = max(len(word) for word in words)\n",
        "\n",
        "  return [raw_word_count, brand_check_for_domain, average_word_length, longest_word_length]\n",
        "\n",
        "# Parse the URLs in the combined_data array\n",
        "parsed_data = []\n",
        "for item in combined_data:\n",
        "  parsed_data.append([item[0], *parse_url(item[0]), item[1]])\n",
        "\n",
        "# Convert the parsed data to a numpy array\n",
        "parsed_data = np.array(parsed_data)\n",
        "\n",
        "# Print the first 10 rows of the parsed data\n",
        "print(parsed_data[:10])\n"
      ],
      "metadata": {
        "colab": {
          "base_uri": "https://localhost:8080/"
        },
        "id": "y23PBckCLy-7",
        "outputId": "41a0ed0d-ccc1-4324-bd4f-7e7f0fe77a78"
      },
      "execution_count": null,
      "outputs": [
        {
          "output_type": "stream",
          "name": "stdout",
          "text": [
            "[['https://en.wikipedia.org/wiki/Network_address_translation' '8' '0'\n",
            "  '6.0' '11' '0']\n",
            " ['https://theconversation.com/kyoto-protocol-fails-get-ready-for-a-hotter-world-10742'\n",
            "  '12' '0' '5.333333333333333' '15' '0']\n",
            " ['http://bhejacry.com/wp-includes/js/jcrop/gucci2014/gdocs/processing.html'\n",
            "  '11' '0' '5.090909090909091' '10' '1']\n",
            " ['http://www.amexpilas.org/icono/_notes/ali/stdc.html' '9' '0'\n",
            "  '4.444444444444445' '9' '1']\n",
            " ['http://www.la-reprise-economique.fr/wp-includes/match2/' '9' '0'\n",
            "  '4.777777777777778' '10' '1']\n",
            " ['http://download.cnet.com/s/security-antivirus/windows/' '8' '0' '5.5'\n",
            "  '9' '0']\n",
            " ['http://www.thefullwiki.org/Longitude_of_the_ascending_node' '9' '0'\n",
            "  '5.333333333333333' '11' '0']\n",
            " ['https://www.quora.com/Whats-the-best-way-to-learn-device-driver-development-on-Linux'\n",
            "  '15' '0' '4.533333333333333' '11' '0']\n",
            " ['http://dmega.co.kr/dmega/data/qna/sec/page.php?email=&log=1&domain='\n",
            "  '13' '0' '3.769230769230769' '6' '1']\n",
            " ['http://vajuboqabasuh432.cf/2235767/3551558/d571438-mickey-mouse-clubhouse-soundtrack-free-download-4de9e2b9e'\n",
            "  '14' '0' '4.785714285714286' '13' '0']]\n"
          ]
        }
      ]
    },
    {
      "cell_type": "code",
      "source": [
        "# prompt: open a xlsx file and convert it into a an array\n",
        "\n",
        "import pandas as pd\n",
        "\n",
        "# Open the xlsx file\n",
        "df = pd.read_excel('data.xlsx')\n",
        "\n",
        "# Convert the xlsx file to a numpy array\n",
        "data = df.to_numpy()\n",
        "\n",
        "# Print the first 10 rows of the numpy array\n",
        "\n",
        "edited_data = []\n",
        "for item in data:\n",
        "  edited_data.append([item[1], item[0]])\n",
        "\n",
        "print(edited_data[:10])\n"
      ],
      "metadata": {
        "colab": {
          "base_uri": "https://localhost:8080/"
        },
        "id": "28_zAQ47naJb",
        "outputId": "d087436e-efbd-4698-d9a2-14519495c96f"
      },
      "execution_count": 10,
      "outputs": [
        {
          "output_type": "stream",
          "name": "stdout",
          "text": [
            "[['http://dbs.vote-friend.com/sg?ref=anything', 1], ['https://www.reynoldstransfer.com/versa-lift-fork-truck/', 0], ['https://www.halisupportservice.com/Login.php', 1], ['https://www.signets.com.br/wp-includes/wlwmanifest.xml', 0], ['https://docs.google.com/document/d/e/2PACX-1vTS9czxqyCsGi-QUifs7m1MqJZMLCjLcCNhW3DsaHdss5ymnPy6y0VSGwvF3pIu6js22Ydjyew1OyO_/pub?embedded=true', 1], ['https://www.iwestco.com/virtual-consult/', 0], ['https://is.gd/N19JOz', 1], ['https://httpsservices.runescape.com-ov.ru/', 1], ['https://viandjo.com/website/membership/service/billing.php?SessionID-xb=NL.=.3754672._.4d1d7fa8d72fb5318fdf3baed95a10e7.=.Netherlands', 1], ['https://www.millect.com/Plans/tabid/76/Default.aspx', 0]]\n"
          ]
        }
      ]
    },
    {
      "cell_type": "code",
      "source": [
        "import tensorflow as tf\n",
        "from tensorflow.keras.preprocessing.text import Tokenizer\n",
        "from tensorflow.keras.preprocessing.sequence import pad_sequences\n",
        "import numpy as np\n",
        "\n",
        "urls = []\n",
        "labels = []\n",
        "\n",
        "for item in edited_data:\n",
        "  urls.append(item[0])\n",
        "  labels.append(item[1])\n",
        "\n",
        "\n",
        "# Tokenize the URLs\n",
        "tokenizer = Tokenizer(char_level=True)\n",
        "tokenizer.fit_on_texts(urls)\n",
        "sequences = tokenizer.texts_to_sequences(urls)\n",
        "\n",
        "# Pad the sequences\n",
        "max_length = 200\n",
        "padded_sequences = pad_sequences(sequences, maxlen=max_length)\n",
        "\n",
        "# Convert labels to numpy array\n",
        "labels = np.array(labels, dtype=int)\n",
        "\n",
        "\n",
        "# Make predictions on the test data\n",
        "predictions = model.predict(padded_sequences)\n",
        "\n",
        "# Convert the predictions to binary values\n",
        "for i in range(len(predictions)):\n",
        "    if predictions[i] > 0.5:\n",
        "        predictions[i] = 1\n",
        "    else:\n",
        "        predictions[i] = 0\n",
        "\n",
        "# Evaluate the model on the test data\n",
        "from sklearn.metrics import accuracy_score\n",
        "accuracy = accuracy_score(labels, predictions)\n",
        "print(\"Accuracy:\", accuracy)\n"
      ],
      "metadata": {
        "colab": {
          "base_uri": "https://localhost:8080/"
        },
        "id": "96MjdogAouqP",
        "outputId": "d99aa597-16d2-4c36-836f-ef190137902d"
      },
      "execution_count": 12,
      "outputs": [
        {
          "output_type": "stream",
          "name": "stdout",
          "text": [
            "625/625 [==============================] - 10s 11ms/step\n",
            "Accuracy: 0.5833\n"
          ]
        }
      ]
    },
    {
      "cell_type": "code",
      "source": [
        "# prompt: print the number of false positives, real positive, false negative, real negative % on labels and predictions\n",
        "\n",
        "# Calculate the number of true positives, false negatives, true negatives, and false positives.\n",
        "tp = 0\n",
        "fn = 0\n",
        "tn = 0\n",
        "fp = 0\n",
        "\n",
        "for i in range(len(labels)):\n",
        "  if labels[i] == 1 and predictions[i] == 1:\n",
        "    tp += 1\n",
        "  elif labels[i] == 1 and predictions[i] == 0:\n",
        "    fn += 1\n",
        "  elif labels[i] == 0 and predictions[i] == 0:\n",
        "    tn += 1\n",
        "  elif labels[i] == 0 and predictions[i] == 1:\n",
        "    fp += 1\n",
        "\n",
        "# Calculate the percentages of true positives, false negatives, true negatives, and false positives.\n",
        "tp_percent = tp / (tp + fn) * 100\n",
        "fn_percent = fn / (tp + fn) * 100\n",
        "tn_percent = tn / (tn + fp) * 100\n",
        "fp_percent = fp / (tn + fp) * 100\n",
        "\n",
        "# Print the percentages of true positives, false negatives, true negatives, and false positives.\n",
        "print(\"True Positives:\", tp_percent)\n",
        "print(\"False Negatives:\", fn_percent)\n",
        "print(\"True Negatives:\", tn_percent)\n",
        "print(\"False Positives:\", fp_percent)\n"
      ],
      "metadata": {
        "colab": {
          "base_uri": "https://localhost:8080/"
        },
        "id": "MhQmbwPjpy4W",
        "outputId": "8a4432b4-4bfb-4de8-e5eb-ae762a504969"
      },
      "execution_count": 13,
      "outputs": [
        {
          "output_type": "stream",
          "name": "stdout",
          "text": [
            "True Positives: 62.35000000000001\n",
            "False Negatives: 37.65\n",
            "True Negatives: 54.31\n",
            "False Positives: 45.69\n"
          ]
        }
      ]
    }
  ]
}